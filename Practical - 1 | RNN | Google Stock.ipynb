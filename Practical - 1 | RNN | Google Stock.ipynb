{
 "cells": [
  {
   "cell_type": "code",
   "execution_count": 1,
   "id": "9a6c82d5",
   "metadata": {
    "_cell_guid": "b1076dfc-b9ad-4769-8c92-a6c4dae69d19",
    "_uuid": "8f2839f25d086af736a60e9eeb907d3b93b6e0e5",
    "execution": {
     "iopub.execute_input": "2022-09-01T11:17:44.799966Z",
     "iopub.status.busy": "2022-09-01T11:17:44.798873Z",
     "iopub.status.idle": "2022-09-01T11:17:44.809507Z",
     "shell.execute_reply": "2022-09-01T11:17:44.808697Z"
    },
    "papermill": {
     "duration": 0.018118,
     "end_time": "2022-09-01T11:17:44.811509",
     "exception": false,
     "start_time": "2022-09-01T11:17:44.793391",
     "status": "completed"
    },
    "tags": []
   },
   "outputs": [],
   "source": [
    "import numpy as np\n",
    "import matplotlib.pyplot as plt\n",
    "import pandas as pd"
   ]
  },
  {
   "cell_type": "code",
   "execution_count": 2,
   "id": "01e5cadf",
   "metadata": {
    "execution": {
     "iopub.execute_input": "2022-09-01T11:17:44.819792Z",
     "iopub.status.busy": "2022-09-01T11:17:44.818992Z",
     "iopub.status.idle": "2022-09-01T11:17:44.843801Z",
     "shell.execute_reply": "2022-09-01T11:17:44.842851Z"
    },
    "papermill": {
     "duration": 0.030976,
     "end_time": "2022-09-01T11:17:44.845939",
     "exception": false,
     "start_time": "2022-09-01T11:17:44.814963",
     "status": "completed"
    },
    "tags": []
   },
   "outputs": [],
   "source": [
    "dataset_train = pd.read_csv('../input/google-stock-data/GOOGL.csv')"
   ]
  },
  {
   "cell_type": "code",
   "execution_count": 3,
   "id": "f11c0f11",
   "metadata": {
    "execution": {
     "iopub.execute_input": "2022-09-01T11:17:44.853637Z",
     "iopub.status.busy": "2022-09-01T11:17:44.853384Z",
     "iopub.status.idle": "2022-09-01T11:17:44.874943Z",
     "shell.execute_reply": "2022-09-01T11:17:44.874040Z"
    },
    "papermill": {
     "duration": 0.02785,
     "end_time": "2022-09-01T11:17:44.877138",
     "exception": false,
     "start_time": "2022-09-01T11:17:44.849288",
     "status": "completed"
    },
    "tags": []
   },
   "outputs": [
    {
     "data": {
      "text/html": [
       "<div>\n",
       "<style scoped>\n",
       "    .dataframe tbody tr th:only-of-type {\n",
       "        vertical-align: middle;\n",
       "    }\n",
       "\n",
       "    .dataframe tbody tr th {\n",
       "        vertical-align: top;\n",
       "    }\n",
       "\n",
       "    .dataframe thead th {\n",
       "        text-align: right;\n",
       "    }\n",
       "</style>\n",
       "<table border=\"1\" class=\"dataframe\">\n",
       "  <thead>\n",
       "    <tr style=\"text-align: right;\">\n",
       "      <th></th>\n",
       "      <th>Date</th>\n",
       "      <th>Open</th>\n",
       "      <th>High</th>\n",
       "      <th>Low</th>\n",
       "      <th>Close</th>\n",
       "      <th>Adj Close</th>\n",
       "      <th>Volume</th>\n",
       "    </tr>\n",
       "  </thead>\n",
       "  <tbody>\n",
       "    <tr>\n",
       "      <th>0</th>\n",
       "      <td>2004-08-19</td>\n",
       "      <td>50.050049</td>\n",
       "      <td>52.082081</td>\n",
       "      <td>48.028027</td>\n",
       "      <td>50.220219</td>\n",
       "      <td>50.220219</td>\n",
       "      <td>44659096</td>\n",
       "    </tr>\n",
       "    <tr>\n",
       "      <th>1</th>\n",
       "      <td>2004-08-20</td>\n",
       "      <td>50.555557</td>\n",
       "      <td>54.594597</td>\n",
       "      <td>50.300301</td>\n",
       "      <td>54.209209</td>\n",
       "      <td>54.209209</td>\n",
       "      <td>22834343</td>\n",
       "    </tr>\n",
       "    <tr>\n",
       "      <th>2</th>\n",
       "      <td>2004-08-23</td>\n",
       "      <td>55.430431</td>\n",
       "      <td>56.796799</td>\n",
       "      <td>54.579578</td>\n",
       "      <td>54.754753</td>\n",
       "      <td>54.754753</td>\n",
       "      <td>18256126</td>\n",
       "    </tr>\n",
       "    <tr>\n",
       "      <th>3</th>\n",
       "      <td>2004-08-24</td>\n",
       "      <td>55.675674</td>\n",
       "      <td>55.855858</td>\n",
       "      <td>51.836838</td>\n",
       "      <td>52.487488</td>\n",
       "      <td>52.487488</td>\n",
       "      <td>15247337</td>\n",
       "    </tr>\n",
       "    <tr>\n",
       "      <th>4</th>\n",
       "      <td>2004-08-25</td>\n",
       "      <td>52.532532</td>\n",
       "      <td>54.054054</td>\n",
       "      <td>51.991993</td>\n",
       "      <td>53.053055</td>\n",
       "      <td>53.053055</td>\n",
       "      <td>9188602</td>\n",
       "    </tr>\n",
       "    <tr>\n",
       "      <th>...</th>\n",
       "      <td>...</td>\n",
       "      <td>...</td>\n",
       "      <td>...</td>\n",
       "      <td>...</td>\n",
       "      <td>...</td>\n",
       "      <td>...</td>\n",
       "      <td>...</td>\n",
       "    </tr>\n",
       "    <tr>\n",
       "      <th>4426</th>\n",
       "      <td>2022-03-18</td>\n",
       "      <td>2668.489990</td>\n",
       "      <td>2724.879883</td>\n",
       "      <td>2645.169922</td>\n",
       "      <td>2722.510010</td>\n",
       "      <td>2722.510010</td>\n",
       "      <td>2223100</td>\n",
       "    </tr>\n",
       "    <tr>\n",
       "      <th>4427</th>\n",
       "      <td>2022-03-21</td>\n",
       "      <td>2723.270020</td>\n",
       "      <td>2741.000000</td>\n",
       "      <td>2681.850098</td>\n",
       "      <td>2722.030029</td>\n",
       "      <td>2722.030029</td>\n",
       "      <td>1341600</td>\n",
       "    </tr>\n",
       "    <tr>\n",
       "      <th>4428</th>\n",
       "      <td>2022-03-22</td>\n",
       "      <td>2722.030029</td>\n",
       "      <td>2821.000000</td>\n",
       "      <td>2722.030029</td>\n",
       "      <td>2797.360107</td>\n",
       "      <td>2797.360107</td>\n",
       "      <td>1774800</td>\n",
       "    </tr>\n",
       "    <tr>\n",
       "      <th>4429</th>\n",
       "      <td>2022-03-23</td>\n",
       "      <td>2774.050049</td>\n",
       "      <td>2791.770020</td>\n",
       "      <td>2756.699951</td>\n",
       "      <td>2765.510010</td>\n",
       "      <td>2765.510010</td>\n",
       "      <td>1257700</td>\n",
       "    </tr>\n",
       "    <tr>\n",
       "      <th>4430</th>\n",
       "      <td>2022-03-24</td>\n",
       "      <td>2784.000000</td>\n",
       "      <td>2832.379883</td>\n",
       "      <td>2755.010010</td>\n",
       "      <td>2831.439941</td>\n",
       "      <td>2831.439941</td>\n",
       "      <td>1317900</td>\n",
       "    </tr>\n",
       "  </tbody>\n",
       "</table>\n",
       "<p>4431 rows × 7 columns</p>\n",
       "</div>"
      ],
      "text/plain": [
       "            Date         Open         High          Low        Close  \\\n",
       "0     2004-08-19    50.050049    52.082081    48.028027    50.220219   \n",
       "1     2004-08-20    50.555557    54.594597    50.300301    54.209209   \n",
       "2     2004-08-23    55.430431    56.796799    54.579578    54.754753   \n",
       "3     2004-08-24    55.675674    55.855858    51.836838    52.487488   \n",
       "4     2004-08-25    52.532532    54.054054    51.991993    53.053055   \n",
       "...          ...          ...          ...          ...          ...   \n",
       "4426  2022-03-18  2668.489990  2724.879883  2645.169922  2722.510010   \n",
       "4427  2022-03-21  2723.270020  2741.000000  2681.850098  2722.030029   \n",
       "4428  2022-03-22  2722.030029  2821.000000  2722.030029  2797.360107   \n",
       "4429  2022-03-23  2774.050049  2791.770020  2756.699951  2765.510010   \n",
       "4430  2022-03-24  2784.000000  2832.379883  2755.010010  2831.439941   \n",
       "\n",
       "        Adj Close    Volume  \n",
       "0       50.220219  44659096  \n",
       "1       54.209209  22834343  \n",
       "2       54.754753  18256126  \n",
       "3       52.487488  15247337  \n",
       "4       53.053055   9188602  \n",
       "...           ...       ...  \n",
       "4426  2722.510010   2223100  \n",
       "4427  2722.030029   1341600  \n",
       "4428  2797.360107   1774800  \n",
       "4429  2765.510010   1257700  \n",
       "4430  2831.439941   1317900  \n",
       "\n",
       "[4431 rows x 7 columns]"
      ]
     },
     "execution_count": 3,
     "metadata": {},
     "output_type": "execute_result"
    }
   ],
   "source": [
    "dataset_train"
   ]
  },
  {
   "cell_type": "code",
   "execution_count": 4,
   "id": "9d4fa94b",
   "metadata": {
    "execution": {
     "iopub.execute_input": "2022-09-01T11:17:44.885675Z",
     "iopub.status.busy": "2022-09-01T11:17:44.884940Z",
     "iopub.status.idle": "2022-09-01T11:17:44.889695Z",
     "shell.execute_reply": "2022-09-01T11:17:44.888896Z"
    },
    "papermill": {
     "duration": 0.010952,
     "end_time": "2022-09-01T11:17:44.891638",
     "exception": false,
     "start_time": "2022-09-01T11:17:44.880686",
     "status": "completed"
    },
    "tags": []
   },
   "outputs": [],
   "source": [
    "dataset_test = dataset_train.iloc[-57:]\n",
    "dataset_train = dataset_train.iloc[:-57]"
   ]
  },
  {
   "cell_type": "code",
   "execution_count": 5,
   "id": "e435123f",
   "metadata": {
    "execution": {
     "iopub.execute_input": "2022-09-01T11:17:44.900075Z",
     "iopub.status.busy": "2022-09-01T11:17:44.899323Z",
     "iopub.status.idle": "2022-09-01T11:17:45.809721Z",
     "shell.execute_reply": "2022-09-01T11:17:45.808761Z"
    },
    "papermill": {
     "duration": 0.917099,
     "end_time": "2022-09-01T11:17:45.812182",
     "exception": false,
     "start_time": "2022-09-01T11:17:44.895083",
     "status": "completed"
    },
    "tags": []
   },
   "outputs": [],
   "source": [
    "training_set = dataset_train.iloc[:,1:2].values\n",
    "\n",
    "from sklearn.preprocessing import MinMaxScaler\n",
    "sc = MinMaxScaler(feature_range = (0, 1))\n",
    "training_set_scaled = sc.fit_transform(training_set)"
   ]
  },
  {
   "cell_type": "code",
   "execution_count": 6,
   "id": "fe3f6950",
   "metadata": {
    "execution": {
     "iopub.execute_input": "2022-09-01T11:17:45.821189Z",
     "iopub.status.busy": "2022-09-01T11:17:45.820543Z",
     "iopub.status.idle": "2022-09-01T11:17:45.832893Z",
     "shell.execute_reply": "2022-09-01T11:17:45.831961Z"
    },
    "papermill": {
     "duration": 0.01898,
     "end_time": "2022-09-01T11:17:45.834911",
     "exception": false,
     "start_time": "2022-09-01T11:17:45.815931",
     "status": "completed"
    },
    "tags": []
   },
   "outputs": [],
   "source": [
    "X_train = [ ]\n",
    "y_train = [ ]\n",
    "for i in range(60, 4146):\n",
    "    X_train.append(training_set_scaled[i-60 : i, 0])\n",
    "    y_train.append(training_set_scaled[ i, 0])\n",
    "X_train, y_train = np.array(X_train), np.array(y_train)"
   ]
  },
  {
   "cell_type": "code",
   "execution_count": 7,
   "id": "3074f7d8",
   "metadata": {
    "execution": {
     "iopub.execute_input": "2022-09-01T11:17:45.842983Z",
     "iopub.status.busy": "2022-09-01T11:17:45.842694Z",
     "iopub.status.idle": "2022-09-01T11:17:45.847267Z",
     "shell.execute_reply": "2022-09-01T11:17:45.846246Z"
    },
    "papermill": {
     "duration": 0.011097,
     "end_time": "2022-09-01T11:17:45.849456",
     "exception": false,
     "start_time": "2022-09-01T11:17:45.838359",
     "status": "completed"
    },
    "tags": []
   },
   "outputs": [],
   "source": [
    "X_train = np.reshape(X_train, (X_train.shape[0], X_train.shape[1], 1 ))"
   ]
  },
  {
   "cell_type": "code",
   "execution_count": 8,
   "id": "5cf4829d",
   "metadata": {
    "execution": {
     "iopub.execute_input": "2022-09-01T11:17:45.857321Z",
     "iopub.status.busy": "2022-09-01T11:17:45.857059Z",
     "iopub.status.idle": "2022-09-01T11:17:51.001547Z",
     "shell.execute_reply": "2022-09-01T11:17:51.000556Z"
    },
    "papermill": {
     "duration": 5.15122,
     "end_time": "2022-09-01T11:17:51.004085",
     "exception": false,
     "start_time": "2022-09-01T11:17:45.852865",
     "status": "completed"
    },
    "tags": []
   },
   "outputs": [],
   "source": [
    "from keras.models import Sequential\n",
    "from keras.layers import Dense\n",
    "from keras.layers import LSTM\n",
    "from keras.layers import Dropout"
   ]
  },
  {
   "cell_type": "code",
   "execution_count": 9,
   "id": "d1c8cf4c",
   "metadata": {
    "execution": {
     "iopub.execute_input": "2022-09-01T11:17:51.013973Z",
     "iopub.status.busy": "2022-09-01T11:17:51.012679Z",
     "iopub.status.idle": "2022-09-01T11:17:54.711765Z",
     "shell.execute_reply": "2022-09-01T11:17:54.710777Z"
    },
    "papermill": {
     "duration": 3.706326,
     "end_time": "2022-09-01T11:17:54.714287",
     "exception": false,
     "start_time": "2022-09-01T11:17:51.007961",
     "status": "completed"
    },
    "tags": []
   },
   "outputs": [
    {
     "name": "stderr",
     "output_type": "stream",
     "text": [
      "2022-09-01 11:17:51.101266: I tensorflow/stream_executor/cuda/cuda_gpu_executor.cc:937] successful NUMA node read from SysFS had negative value (-1), but there must be at least one NUMA node, so returning NUMA node zero\n",
      "2022-09-01 11:17:51.219196: I tensorflow/stream_executor/cuda/cuda_gpu_executor.cc:937] successful NUMA node read from SysFS had negative value (-1), but there must be at least one NUMA node, so returning NUMA node zero\n",
      "2022-09-01 11:17:51.220003: I tensorflow/stream_executor/cuda/cuda_gpu_executor.cc:937] successful NUMA node read from SysFS had negative value (-1), but there must be at least one NUMA node, so returning NUMA node zero\n",
      "2022-09-01 11:17:51.221888: I tensorflow/core/platform/cpu_feature_guard.cc:142] This TensorFlow binary is optimized with oneAPI Deep Neural Network Library (oneDNN) to use the following CPU instructions in performance-critical operations:  AVX2 AVX512F FMA\n",
      "To enable them in other operations, rebuild TensorFlow with the appropriate compiler flags.\n",
      "2022-09-01 11:17:51.225792: I tensorflow/stream_executor/cuda/cuda_gpu_executor.cc:937] successful NUMA node read from SysFS had negative value (-1), but there must be at least one NUMA node, so returning NUMA node zero\n",
      "2022-09-01 11:17:51.226539: I tensorflow/stream_executor/cuda/cuda_gpu_executor.cc:937] successful NUMA node read from SysFS had negative value (-1), but there must be at least one NUMA node, so returning NUMA node zero\n",
      "2022-09-01 11:17:51.227304: I tensorflow/stream_executor/cuda/cuda_gpu_executor.cc:937] successful NUMA node read from SysFS had negative value (-1), but there must be at least one NUMA node, so returning NUMA node zero\n",
      "2022-09-01 11:17:53.496216: I tensorflow/stream_executor/cuda/cuda_gpu_executor.cc:937] successful NUMA node read from SysFS had negative value (-1), but there must be at least one NUMA node, so returning NUMA node zero\n",
      "2022-09-01 11:17:53.497128: I tensorflow/stream_executor/cuda/cuda_gpu_executor.cc:937] successful NUMA node read from SysFS had negative value (-1), but there must be at least one NUMA node, so returning NUMA node zero\n",
      "2022-09-01 11:17:53.497820: I tensorflow/stream_executor/cuda/cuda_gpu_executor.cc:937] successful NUMA node read from SysFS had negative value (-1), but there must be at least one NUMA node, so returning NUMA node zero\n",
      "2022-09-01 11:17:53.498407: I tensorflow/core/common_runtime/gpu/gpu_device.cc:1510] Created device /job:localhost/replica:0/task:0/device:GPU:0 with 15401 MB memory:  -> device: 0, name: Tesla P100-PCIE-16GB, pci bus id: 0000:00:04.0, compute capability: 6.0\n"
     ]
    }
   ],
   "source": [
    "# Initialising the RNN\n",
    "regressor = Sequential()\n",
    "# Step 1 – Adding the 1st LSTM layer and some dropout regularisation\n",
    "regressor.add(LSTM(units = 50, return_sequences = True, input_shape = (X_train.shape[1], 1)))\n",
    "regressor.add(Dropout(0.2))\n",
    "# Step 2 - Adding the 2nd LSTM layer and some dropout regularisation\n",
    "regressor.add(LSTM(units = 50, return_sequences = True))\n",
    "regressor.add(Dropout(0.2))\n",
    "# Step 3 - Adding the 3rd LSTM layer and some dropout regularisation\n",
    "regressor.add(LSTM(units = 50, return_sequences = True))\n",
    "regressor.add(Dropout(0.2))\n",
    "# Step 4 - Adding the 4th LSTM layer and some dropout regularisation\n",
    "regressor.add(LSTM(units = 50))\n",
    "regressor.add(Dropout(0.2))\n",
    "# Step 5 – Adding Output Layer\n",
    "regressor.add(Dense(units = 1))"
   ]
  },
  {
   "cell_type": "code",
   "execution_count": 10,
   "id": "e8dacce6",
   "metadata": {
    "execution": {
     "iopub.execute_input": "2022-09-01T11:17:54.724583Z",
     "iopub.status.busy": "2022-09-01T11:17:54.723132Z",
     "iopub.status.idle": "2022-09-01T11:17:54.735942Z",
     "shell.execute_reply": "2022-09-01T11:17:54.734934Z"
    },
    "papermill": {
     "duration": 0.019864,
     "end_time": "2022-09-01T11:17:54.738154",
     "exception": false,
     "start_time": "2022-09-01T11:17:54.718290",
     "status": "completed"
    },
    "tags": []
   },
   "outputs": [],
   "source": [
    "regressor.compile(optimizer = 'adam', loss = 'mean_squared_error')"
   ]
  },
  {
   "cell_type": "code",
   "execution_count": 11,
   "id": "1f134812",
   "metadata": {
    "execution": {
     "iopub.execute_input": "2022-09-01T11:17:54.746822Z",
     "iopub.status.busy": "2022-09-01T11:17:54.746514Z",
     "iopub.status.idle": "2022-09-01T11:21:21.335678Z",
     "shell.execute_reply": "2022-09-01T11:21:21.334701Z"
    },
    "papermill": {
     "duration": 206.771925,
     "end_time": "2022-09-01T11:21:21.513762",
     "exception": false,
     "start_time": "2022-09-01T11:17:54.741837",
     "status": "completed"
    },
    "tags": []
   },
   "outputs": [
    {
     "name": "stderr",
     "output_type": "stream",
     "text": [
      "2022-09-01 11:17:54.798155: I tensorflow/compiler/mlir/mlir_graph_optimization_pass.cc:185] None of the MLIR Optimization Passes are enabled (registered 2)\n"
     ]
    },
    {
     "name": "stdout",
     "output_type": "stream",
     "text": [
      "Epoch 1/100\n"
     ]
    },
    {
     "name": "stderr",
     "output_type": "stream",
     "text": [
      "2022-09-01 11:18:00.342660: I tensorflow/stream_executor/cuda/cuda_dnn.cc:369] Loaded cuDNN version 8005\n"
     ]
    },
    {
     "name": "stdout",
     "output_type": "stream",
     "text": [
      "128/128 [==============================] - 9s 13ms/step - loss: 0.0028\n",
      "Epoch 2/100\n",
      "128/128 [==============================] - 2s 13ms/step - loss: 7.0088e-04\n",
      "Epoch 3/100\n",
      "128/128 [==============================] - 2s 13ms/step - loss: 6.4290e-04\n",
      "Epoch 4/100\n",
      "128/128 [==============================] - 2s 13ms/step - loss: 5.6646e-04\n",
      "Epoch 5/100\n",
      "128/128 [==============================] - 2s 14ms/step - loss: 5.4951e-04\n",
      "Epoch 6/100\n",
      "128/128 [==============================] - 2s 13ms/step - loss: 4.3769e-04\n",
      "Epoch 7/100\n",
      "128/128 [==============================] - 2s 13ms/step - loss: 4.1476e-04\n",
      "Epoch 8/100\n",
      "128/128 [==============================] - 2s 13ms/step - loss: 3.9864e-04\n",
      "Epoch 9/100\n",
      "128/128 [==============================] - 2s 13ms/step - loss: 4.1445e-04\n",
      "Epoch 10/100\n",
      "128/128 [==============================] - 2s 13ms/step - loss: 3.8818e-04\n",
      "Epoch 11/100\n",
      "128/128 [==============================] - 2s 15ms/step - loss: 3.9610e-04\n",
      "Epoch 12/100\n",
      "128/128 [==============================] - 2s 16ms/step - loss: 3.1119e-04\n",
      "Epoch 13/100\n",
      "128/128 [==============================] - 2s 13ms/step - loss: 3.6834e-04\n",
      "Epoch 14/100\n",
      "128/128 [==============================] - 2s 13ms/step - loss: 3.4515e-04\n",
      "Epoch 15/100\n",
      "128/128 [==============================] - 2s 13ms/step - loss: 3.1827e-04\n",
      "Epoch 16/100\n",
      "128/128 [==============================] - 2s 13ms/step - loss: 3.3046e-04\n",
      "Epoch 17/100\n",
      "128/128 [==============================] - 2s 13ms/step - loss: 2.8667e-04\n",
      "Epoch 18/100\n",
      "128/128 [==============================] - 2s 14ms/step - loss: 3.0769e-04\n",
      "Epoch 19/100\n",
      "128/128 [==============================] - 2s 13ms/step - loss: 3.1567e-04\n",
      "Epoch 20/100\n",
      "128/128 [==============================] - 2s 13ms/step - loss: 2.9794e-04\n",
      "Epoch 21/100\n",
      "128/128 [==============================] - 2s 13ms/step - loss: 3.2072e-04\n",
      "Epoch 22/100\n",
      "128/128 [==============================] - 2s 13ms/step - loss: 2.7684e-04\n",
      "Epoch 23/100\n",
      "128/128 [==============================] - 2s 13ms/step - loss: 3.0537e-04\n",
      "Epoch 24/100\n",
      "128/128 [==============================] - 2s 14ms/step - loss: 3.0652e-04\n",
      "Epoch 25/100\n",
      "128/128 [==============================] - 2s 13ms/step - loss: 2.6602e-04\n",
      "Epoch 26/100\n",
      "128/128 [==============================] - 2s 13ms/step - loss: 3.0463e-04\n",
      "Epoch 27/100\n",
      "128/128 [==============================] - 2s 13ms/step - loss: 2.6515e-04\n",
      "Epoch 28/100\n",
      "128/128 [==============================] - 2s 13ms/step - loss: 2.7499e-04\n",
      "Epoch 29/100\n",
      "128/128 [==============================] - 2s 13ms/step - loss: 2.6009e-04\n",
      "Epoch 30/100\n",
      "128/128 [==============================] - 2s 15ms/step - loss: 2.6521e-04\n",
      "Epoch 31/100\n",
      "128/128 [==============================] - 2s 15ms/step - loss: 2.6156e-04\n",
      "Epoch 32/100\n",
      "128/128 [==============================] - 2s 13ms/step - loss: 2.7855e-04\n",
      "Epoch 33/100\n",
      "128/128 [==============================] - 2s 13ms/step - loss: 3.0715e-04\n",
      "Epoch 34/100\n",
      "128/128 [==============================] - 2s 13ms/step - loss: 2.6132e-04\n",
      "Epoch 35/100\n",
      "128/128 [==============================] - 2s 13ms/step - loss: 2.6042e-04\n",
      "Epoch 36/100\n",
      "128/128 [==============================] - 2s 13ms/step - loss: 2.5039e-04\n",
      "Epoch 37/100\n",
      "128/128 [==============================] - 2s 14ms/step - loss: 2.5873e-04\n",
      "Epoch 38/100\n",
      "128/128 [==============================] - 2s 13ms/step - loss: 2.4220e-04\n",
      "Epoch 39/100\n",
      "128/128 [==============================] - 2s 13ms/step - loss: 2.3715e-04\n",
      "Epoch 40/100\n",
      "128/128 [==============================] - 2s 13ms/step - loss: 2.7836e-04\n",
      "Epoch 41/100\n",
      "128/128 [==============================] - 2s 13ms/step - loss: 2.8870e-04\n",
      "Epoch 42/100\n",
      "128/128 [==============================] - 2s 13ms/step - loss: 2.4437e-04\n",
      "Epoch 43/100\n",
      "128/128 [==============================] - 2s 14ms/step - loss: 2.7711e-04\n",
      "Epoch 44/100\n",
      "128/128 [==============================] - 2s 13ms/step - loss: 2.2540e-04\n",
      "Epoch 45/100\n",
      "128/128 [==============================] - 2s 13ms/step - loss: 2.4855e-04\n",
      "Epoch 46/100\n",
      "128/128 [==============================] - 2s 13ms/step - loss: 2.7680e-04\n",
      "Epoch 47/100\n",
      "128/128 [==============================] - 2s 13ms/step - loss: 3.0589e-04\n",
      "Epoch 48/100\n",
      "128/128 [==============================] - 2s 14ms/step - loss: 2.4276e-04\n",
      "Epoch 49/100\n",
      "128/128 [==============================] - 2s 14ms/step - loss: 2.3823e-04\n",
      "Epoch 50/100\n",
      "128/128 [==============================] - 2s 14ms/step - loss: 2.5807e-04\n",
      "Epoch 51/100\n",
      "128/128 [==============================] - 2s 13ms/step - loss: 2.7751e-04\n",
      "Epoch 52/100\n",
      "128/128 [==============================] - 2s 13ms/step - loss: 2.2838e-04\n",
      "Epoch 53/100\n",
      "128/128 [==============================] - 2s 13ms/step - loss: 2.1854e-04\n",
      "Epoch 54/100\n",
      "128/128 [==============================] - 2s 13ms/step - loss: 2.5018e-04\n",
      "Epoch 55/100\n",
      "128/128 [==============================] - 2s 13ms/step - loss: 2.3166e-04\n",
      "Epoch 56/100\n",
      "128/128 [==============================] - 2s 14ms/step - loss: 2.2710e-04\n",
      "Epoch 57/100\n",
      "128/128 [==============================] - 2s 14ms/step - loss: 2.6280e-04\n",
      "Epoch 58/100\n",
      "128/128 [==============================] - 2s 13ms/step - loss: 2.2239e-04\n",
      "Epoch 59/100\n",
      "128/128 [==============================] - 2s 13ms/step - loss: 2.2672e-04\n",
      "Epoch 60/100\n",
      "128/128 [==============================] - 2s 13ms/step - loss: 2.2993e-04\n",
      "Epoch 61/100\n",
      "128/128 [==============================] - 2s 13ms/step - loss: 2.0745e-04\n",
      "Epoch 62/100\n",
      "128/128 [==============================] - 2s 13ms/step - loss: 2.2119e-04\n",
      "Epoch 63/100\n",
      "128/128 [==============================] - 2s 14ms/step - loss: 2.1774e-04\n",
      "Epoch 64/100\n",
      "128/128 [==============================] - 2s 13ms/step - loss: 2.3494e-04\n",
      "Epoch 65/100\n",
      "128/128 [==============================] - 2s 13ms/step - loss: 2.1149e-04\n",
      "Epoch 66/100\n",
      "128/128 [==============================] - 2s 14ms/step - loss: 2.1595e-04\n",
      "Epoch 67/100\n",
      "128/128 [==============================] - 2s 15ms/step - loss: 2.5112e-04\n",
      "Epoch 68/100\n",
      "128/128 [==============================] - 2s 13ms/step - loss: 2.0546e-04\n",
      "Epoch 69/100\n",
      "128/128 [==============================] - 2s 14ms/step - loss: 2.4204e-04\n",
      "Epoch 70/100\n",
      "128/128 [==============================] - 2s 13ms/step - loss: 2.1300e-04\n",
      "Epoch 71/100\n",
      "128/128 [==============================] - 2s 13ms/step - loss: 2.4019e-04\n",
      "Epoch 72/100\n",
      "128/128 [==============================] - 2s 13ms/step - loss: 2.3301e-04\n",
      "Epoch 73/100\n",
      "128/128 [==============================] - 2s 13ms/step - loss: 2.3144e-04\n",
      "Epoch 74/100\n",
      "128/128 [==============================] - 2s 13ms/step - loss: 3.0167e-04\n",
      "Epoch 75/100\n",
      "128/128 [==============================] - 2s 14ms/step - loss: 2.1430e-04\n",
      "Epoch 76/100\n",
      "128/128 [==============================] - 2s 13ms/step - loss: 2.0290e-04\n",
      "Epoch 77/100\n",
      "128/128 [==============================] - 2s 13ms/step - loss: 2.1673e-04\n",
      "Epoch 78/100\n",
      "128/128 [==============================] - 2s 13ms/step - loss: 1.9996e-04\n",
      "Epoch 79/100\n",
      "128/128 [==============================] - 2s 13ms/step - loss: 1.9594e-04\n",
      "Epoch 80/100\n",
      "128/128 [==============================] - 2s 13ms/step - loss: 2.4071e-04\n",
      "Epoch 81/100\n",
      "128/128 [==============================] - 2s 13ms/step - loss: 2.5154e-04\n",
      "Epoch 82/100\n",
      "128/128 [==============================] - 2s 14ms/step - loss: 2.1623e-04\n",
      "Epoch 83/100\n",
      "128/128 [==============================] - 2s 13ms/step - loss: 2.1878e-04\n",
      "Epoch 84/100\n",
      "128/128 [==============================] - 2s 14ms/step - loss: 2.2641e-04\n",
      "Epoch 85/100\n",
      "128/128 [==============================] - 2s 15ms/step - loss: 2.4768e-04\n",
      "Epoch 86/100\n",
      "128/128 [==============================] - 2s 13ms/step - loss: 2.2162e-04\n",
      "Epoch 87/100\n",
      "128/128 [==============================] - 2s 13ms/step - loss: 2.1004e-04\n",
      "Epoch 88/100\n",
      "128/128 [==============================] - 2s 14ms/step - loss: 2.3568e-04\n",
      "Epoch 89/100\n",
      "128/128 [==============================] - 2s 13ms/step - loss: 2.4243e-04\n",
      "Epoch 90/100\n",
      "128/128 [==============================] - 2s 13ms/step - loss: 1.8942e-04\n",
      "Epoch 91/100\n",
      "128/128 [==============================] - 2s 13ms/step - loss: 2.0491e-04\n",
      "Epoch 92/100\n",
      "128/128 [==============================] - 2s 13ms/step - loss: 1.9779e-04\n",
      "Epoch 93/100\n",
      "128/128 [==============================] - 2s 13ms/step - loss: 2.2131e-04\n",
      "Epoch 94/100\n",
      "128/128 [==============================] - 2s 13ms/step - loss: 2.0777e-04\n",
      "Epoch 95/100\n",
      "128/128 [==============================] - 2s 14ms/step - loss: 1.9671e-04\n",
      "Epoch 96/100\n",
      "128/128 [==============================] - 2s 13ms/step - loss: 1.9496e-04\n",
      "Epoch 97/100\n",
      "128/128 [==============================] - 2s 13ms/step - loss: 2.1762e-04\n",
      "Epoch 98/100\n",
      "128/128 [==============================] - 2s 13ms/step - loss: 2.0861e-04\n",
      "Epoch 99/100\n",
      "128/128 [==============================] - 2s 13ms/step - loss: 1.9531e-04\n",
      "Epoch 100/100\n",
      "128/128 [==============================] - 2s 13ms/step - loss: 2.0895e-04\n"
     ]
    },
    {
     "data": {
      "text/plain": [
       "<keras.callbacks.History at 0x7f14e9feab90>"
      ]
     },
     "execution_count": 11,
     "metadata": {},
     "output_type": "execute_result"
    }
   ],
   "source": [
    "regressor.fit (X_train, y_train, epochs = 100, batch_size = 32)"
   ]
  },
  {
   "cell_type": "code",
   "execution_count": 12,
   "id": "f7bb307b",
   "metadata": {
    "execution": {
     "iopub.execute_input": "2022-09-01T11:21:21.921936Z",
     "iopub.status.busy": "2022-09-01T11:21:21.920936Z",
     "iopub.status.idle": "2022-09-01T11:21:21.926759Z",
     "shell.execute_reply": "2022-09-01T11:21:21.925730Z"
    },
    "papermill": {
     "duration": 0.239398,
     "end_time": "2022-09-01T11:21:21.928774",
     "exception": false,
     "start_time": "2022-09-01T11:21:21.689376",
     "status": "completed"
    },
    "tags": []
   },
   "outputs": [],
   "source": [
    "real_stock_price = dataset_test.iloc[:, 1:2].values"
   ]
  },
  {
   "cell_type": "code",
   "execution_count": 13,
   "id": "72a89c36",
   "metadata": {
    "execution": {
     "iopub.execute_input": "2022-09-01T11:21:22.280852Z",
     "iopub.status.busy": "2022-09-01T11:21:22.279869Z",
     "iopub.status.idle": "2022-09-01T11:21:23.335775Z",
     "shell.execute_reply": "2022-09-01T11:21:23.334727Z"
    },
    "papermill": {
     "duration": 1.236645,
     "end_time": "2022-09-01T11:21:23.338222",
     "exception": false,
     "start_time": "2022-09-01T11:21:22.101577",
     "status": "completed"
    },
    "tags": []
   },
   "outputs": [],
   "source": [
    "dataset_total = pd.concat((dataset_train['Open'], dataset_test['Open']), axis = 0)\n",
    "inputs = dataset_total[len(dataset_total) - len(dataset_test) - 60: ].values\n",
    "inputs = inputs.reshape( -1, 1)\n",
    "inputs = sc.transform(inputs)\n",
    "X_test = []\n",
    "for i in range(60, 117) :\n",
    "    X_test.append(inputs[i-60:i,0].tolist())\n",
    "X_test = np.array(X_test)\n",
    "X_test = np.reshape( X_test, (X_test.shape[0], X_test.shape[1], 1 ))\n",
    "predicted_stock_price = regressor.predict(X_test)\n",
    "predicted_stock_price = sc.inverse_transform(predicted_stock_price)"
   ]
  },
  {
   "cell_type": "code",
   "execution_count": 14,
   "id": "1a486515",
   "metadata": {
    "execution": {
     "iopub.execute_input": "2022-09-01T11:21:23.689026Z",
     "iopub.status.busy": "2022-09-01T11:21:23.688012Z",
     "iopub.status.idle": "2022-09-01T11:21:23.987705Z",
     "shell.execute_reply": "2022-09-01T11:21:23.986810Z"
    },
    "papermill": {
     "duration": 0.477002,
     "end_time": "2022-09-01T11:21:23.990497",
     "exception": false,
     "start_time": "2022-09-01T11:21:23.513495",
     "status": "completed"
    },
    "tags": []
   },
   "outputs": [
    {
     "data": {
      "image/png": "[encoded data removed]",
      "text/plain": [
       "<Figure size 1800x720 with 1 Axes>"
      ]
     },
     "metadata": {
      "needs_background": "light"
     },
     "output_type": "display_data"
    }
   ],
   "source": [
    "plt.figure(figsize = (25, 10))\n",
    "plt.plot(real_stock_price, color = 'red', label = 'Real Google Stock Price')\n",
    "plt.plot(predicted_stock_price, color = 'Blue', label = 'Predicted Real Google Stock Price')\n",
    "plt.title('Google Stock Price Prediction')\n",
    "plt.xlabel ('Time')\n",
    "plt.ylabel ('Google Stock Price')\n",
    "plt.legend()\n",
    "plt.show()"
   ]
  },
  {
   "cell_type": "code",
   "execution_count": null,
   "id": "057a7f73",
   "metadata": {
    "papermill": {
     "duration": 0.177689,
     "end_time": "2022-09-01T11:21:24.345218",
     "exception": false,
     "start_time": "2022-09-01T11:21:24.167529",
     "status": "completed"
    },
    "tags": []
   },
   "outputs": [],
   "source": []
  }
 ],
 "metadata": {
  "kernelspec": {
   "display_name": "Python 3",
   "language": "python",
   "name": "python3"
  },
  "language_info": {
   "codemirror_mode": {
    "name": "ipython",
    "version": 3
   },
   "file_extension": ".py",
   "mimetype": "text/x-python",
   "name": "python",
   "nbconvert_exporter": "python",
   "pygments_lexer": "ipython3",
   "version": "3.7.12"
  },
  "papermill": {
   "default_parameters": {},
   "duration": 230.476406,
   "end_time": "2022-09-01T11:21:27.518874",
   "environment_variables": {},
   "exception": null,
   "input_path": "__notebook__.ipynb",
   "output_path": "__notebook__.ipynb",
   "parameters": {},
   "start_time": "2022-09-01T11:17:37.042468",
   "version": "2.3.4"
  }
 },
 "nbformat": 4,
 "nbformat_minor": 5
}
